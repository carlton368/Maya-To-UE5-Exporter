{
  "nbformat": 4,
  "nbformat_minor": 0,
  "metadata": {
    "colab": {
      "provenance": [],
      "authorship_tag": "ABX9TyObFT8XMg1QObr84ORxZj1d",
      "include_colab_link": true
    },
    "kernelspec": {
      "name": "python3",
      "display_name": "Python 3"
    },
    "language_info": {
      "name": "python"
    }
  },
  "cells": [
    {
      "cell_type": "markdown",
      "metadata": {
        "id": "view-in-github",
        "colab_type": "text"
      },
      "source": [
        "<a href=\"https://colab.research.google.com/github/carlton368/Maya-To-UE5-Exporter/blob/main/stack.ipynb\" target=\"_parent\"><img src=\"https://colab.research.google.com/assets/colab-badge.svg\" alt=\"Open In Colab\"/></a>"
      ]
    },
    {
      "cell_type": "markdown",
      "source": [
        "\n",
        "1. 소괄호는 짝을 맞춘 열린 괄호\"(\"와 \")\"로 구성되어있다.\n",
        "2. \"(\"과\")\"이 뒤섞인 문자열이 주어진다.\n",
        "3. 이때 소괄호가 정상적으로 닫혀있는지 판별하는 함수를 구현해라.\n",
        "    - 정상적으로 짝이 맞아서 닫히면 True 반환\n",
        "    - 아니면 False를 반환"
      ],
      "metadata": {
        "id": "cQWsfiRx4AIr"
      }
    },
    {
      "cell_type": "code",
      "source": [],
      "metadata": {
        "colab": {
          "base_uri": "https://localhost:8080/"
        },
        "id": "rjx7aVXM5NDX",
        "outputId": "d625bee0-f748-4007-8322-88e6c525ee72"
      },
      "execution_count": null,
      "outputs": [
        {
          "output_type": "stream",
          "name": "stdout",
          "text": [
            "hi\n"
          ]
        }
      ]
    }
  ]
}